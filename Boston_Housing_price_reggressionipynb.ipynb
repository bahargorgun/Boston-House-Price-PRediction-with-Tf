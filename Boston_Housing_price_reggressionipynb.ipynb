{
  "nbformat": 4,
  "nbformat_minor": 0,
  "metadata": {
    "colab": {
      "provenance": []
    },
    "kernelspec": {
      "name": "python3",
      "display_name": "Python 3"
    },
    "language_info": {
      "name": "python"
    }
  },
  "cells": [
    {
      "cell_type": "code",
      "source": [
        "import numpy as np\n",
        "import matplotlib.pyplot as plt\n",
        "import pandas as pd\n",
        "from sklearn.metrics import confusion_matrix"
      ],
      "metadata": {
        "id": "aHmvzk5tD0FK"
      },
      "execution_count": 23,
      "outputs": []
    },
    {
      "cell_type": "code",
      "execution_count": 7,
      "metadata": {
        "colab": {
          "base_uri": "https://localhost:8080/"
        },
        "id": "HfTqmq6ICx33",
        "outputId": "41ee5021-9353-45e9-d1dc-358802fc07e5"
      },
      "outputs": [
        {
          "output_type": "execute_result",
          "data": {
            "text/plain": [
              "(404, 13)"
            ]
          },
          "metadata": {},
          "execution_count": 7
        }
      ],
      "source": [
        "from keras.datasets import boston_housing\n",
        "(train_data, train_targets), (test_data, test_targets) = boston_housing.load_data()\n",
        "train_data.shape\n"
      ]
    },
    {
      "cell_type": "code",
      "source": [
        "mean = train_data.mean(axis=0)\n",
        "train_data -= mean\n",
        "std = train_data.std(axis=0)\n",
        "train_data /= std\n",
        "test_data -= mean\n",
        "test_data /= std\n",
        "#normalization"
      ],
      "metadata": {
        "id": "fp11YGOiDlIp"
      },
      "execution_count": 8,
      "outputs": []
    },
    {
      "cell_type": "code",
      "source": [
        "from keras import models\n",
        "from keras import layers\n",
        "\n",
        "def build_model():\n",
        "    model = models.Sequential()\n",
        "    model.add(layers.Dense(64, activation='relu', input_shape=(train_data.shape[1],)))\n",
        "    model.add(layers.Dense(64, activation='relu'))\n",
        "    model.add(layers.Dense(1))\n",
        "    model.compile(optimizer='adam',\n",
        "              loss='mse',\n",
        "              metrics=['mae'])\n",
        "    return model\n",
        "#Dataset is small so i want to small neural network because i don't want overfitting.    \n",
        "#adam,mse or mae are Hyperparameter optimization"
      ],
      "metadata": {
        "id": "k8taTLfZFLkX"
      },
      "execution_count": 10,
      "outputs": []
    },
    {
      "cell_type": "code",
      "source": [
        "k = 4\n",
        "num_val_samples = len(train_data) // k\n",
        "num_epochs = 100\n",
        "all_scores = []\n",
        "\n",
        "for i in range(k):\n",
        "    print(f'Processing fold # {i}')\n",
        "    val_data = train_data[i * num_val_samples: (i+1) * num_val_samples]\n",
        "    val_targets = train_targets[i * num_val_samples: (i+1) * num_val_samples]\n",
        "    \n",
        "    partial_train_data = np.concatenate(\n",
        "                            [train_data[:i * num_val_samples],\n",
        "                            train_data[(i+1) * num_val_samples:]],\n",
        "                            axis=0)\n",
        "    partial_train_targets = np.concatenate(\n",
        "                            [train_targets[:i * num_val_samples],\n",
        "                            train_targets[(i+1)*num_val_samples:]],\n",
        "                            axis=0)\n",
        "    model = build_model()\n",
        "    model.fit(partial_train_data,\n",
        "              partial_train_targets,\n",
        "              epochs=num_epochs,\n",
        "              batch_size=1,\n",
        "              verbose=0)\n",
        "    val_mse, val_mae = model.evaluate(val_data, val_targets, verbose=0)\n",
        "    all_scores.append(val_mae)"
      ],
      "metadata": {
        "colab": {
          "base_uri": "https://localhost:8080/"
        },
        "id": "PA-OeDD7F3h1",
        "outputId": "427a821a-a231-4225-e973-67e170e865ca"
      },
      "execution_count": 16,
      "outputs": [
        {
          "output_type": "stream",
          "name": "stdout",
          "text": [
            "Processing fold # 0\n",
            "Processing fold # 1\n",
            "Processing fold # 2\n",
            "Processing fold # 3\n"
          ]
        }
      ]
    },
    {
      "cell_type": "code",
      "source": [
        "print(f'all_scores : {all_scores}')\n",
        "print(f'mean all scores : {np.mean(all_scores)}')"
      ],
      "metadata": {
        "colab": {
          "base_uri": "https://localhost:8080/"
        },
        "id": "Hftefu8eIFjX",
        "outputId": "07606f25-ff12-4c93-839e-67b8a55cd794"
      },
      "execution_count": 17,
      "outputs": [
        {
          "output_type": "stream",
          "name": "stdout",
          "text": [
            "all_scores : [2.4084901809692383, 2.358886480331421, 2.3323893547058105, 2.351155996322632]\n",
            "mean all scores : 2.3627305030822754\n"
          ]
        }
      ]
    },
    {
      "cell_type": "code",
      "source": [
        "model = build_model()\n",
        "history = model.fit(train_data, train_targets, epochs=100, batch_size=16, verbose=0)\n",
        "test_mse_score, test_mae_score = model.evaluate(test_data, test_targets)"
      ],
      "metadata": {
        "colab": {
          "base_uri": "https://localhost:8080/"
        },
        "id": "dSHB4UODKcvf",
        "outputId": "d3b21b7c-4bc4-4237-b41a-5c9a54591edc"
      },
      "execution_count": 27,
      "outputs": [
        {
          "output_type": "stream",
          "name": "stdout",
          "text": [
            "4/4 [==============================] - 0s 3ms/step - loss: 19.8100 - mae: 2.7418\n"
          ]
        }
      ]
    },
    {
      "cell_type": "code",
      "source": [
        "test_predictions = model.predict(test_data).flatten()\n",
        "train_predictions = model.predict(train_data).flatten()\n",
        "\n",
        "plt.scatter(test_targets, test_predictions)\n",
        "plt.xlabel('True Values [MEDV]')\n",
        "plt.ylabel('Predictions [MEDV]')\n",
        "plt.axis('equal')\n",
        "plt.axis('square')\n",
        "plt.xlim([0,plt.xlim()[1]])\n",
        "plt.ylim([0,plt.ylim()[1]])\n",
        "_ = plt.plot([-100, 100], [-100, 100])"
      ],
      "metadata": {
        "colab": {
          "base_uri": "https://localhost:8080/",
          "height": 316
        },
        "id": "OeYQ89CNLCiJ",
        "outputId": "20a18df7-2b8d-4b92-da91-cafdec7be007"
      },
      "execution_count": 34,
      "outputs": [
        {
          "output_type": "stream",
          "name": "stdout",
          "text": [
            "4/4 [==============================] - 0s 3ms/step\n",
            "13/13 [==============================] - 0s 2ms/step\n"
          ]
        },
        {
          "output_type": "display_data",
          "data": {
            "text/plain": [
              "<Figure size 432x288 with 1 Axes>"
            ],
            "image/png": "[encoded data removed]"
          },
          "metadata": {
            "needs_background": "light"
          }
        }
      ]
    },
    {
      "cell_type": "code",
      "source": [],
      "metadata": {
        "id": "RmrW4VgkOj0c"
      },
      "execution_count": null,
      "outputs": []
    }
  ]
}